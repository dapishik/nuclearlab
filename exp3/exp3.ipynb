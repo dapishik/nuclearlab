{
 "cells": [
  {
   "cell_type": "code",
   "execution_count": null,
   "id": "36a90988",
   "metadata": {},
   "outputs": [
    {
     "name": "stdout",
     "output_type": "stream",
     "text": [
      "[944.40028561] [113.65477606]\n"
     ]
    }
   ],
   "source": [
    "import numpy as np\n",
    "from scipy.optimize import fsolve\n",
    "from scipy.optimize import brentq\n",
    "\n",
    "def f(x,a,b,c,d):\n",
    "    return 1/(1/a-x)+1/(1/b-x)-1/(1/c-x)-1/(1/d-x)\n",
    "\n",
    "far_data = (70/300,57401/300,54971/300,3615/300)\n",
    "\n",
    "near_data = (79/300,275345/300,255605/300,24256/300)\n",
    "\n",
    "dt_far = fsolve(f,0,far_data)\n",
    "dt_near = fsolve(f,0,near_data)\n",
    "\n",
    "print(dt_far*1e6,dt_near*1e6)"
   ]
  },
  {
   "cell_type": "code",
   "execution_count": null,
   "id": "4a72100f",
   "metadata": {},
   "outputs": [],
   "source": []
  }
 ],
 "metadata": {
  "kernelspec": {
   "display_name": "Python 3",
   "language": "python",
   "name": "python3"
  },
  "language_info": {
   "codemirror_mode": {
    "name": "ipython",
    "version": 3
   },
   "file_extension": ".py",
   "mimetype": "text/x-python",
   "name": "python",
   "nbconvert_exporter": "python",
   "pygments_lexer": "ipython3",
   "version": "3.10.11"
  }
 },
 "nbformat": 4,
 "nbformat_minor": 5
}
