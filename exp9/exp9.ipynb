{
 "cells": [
  {
   "cell_type": "code",
   "execution_count": null,
   "id": "d142eea7",
   "metadata": {},
   "outputs": [
    {
     "name": "stderr",
     "output_type": "stream",
     "text": [
      "C:\\Users\\sekhavati\\AppData\\Local\\Temp\\ipykernel_7164\\2009125437.py:5: UserWarning: genfromtxt: Empty input file: \"exp9_data.csv\"\n",
      "  data = np.genfromtxt('exp9_data.csv',delimiter=',')\n"
     ]
    }
   ],
   "source": [
    "import numpy as np\n",
    "import matplotlib.pyplot as plt\n",
    "from scipy.optimize import curve_fit\n",
    "\n",
    "data = np.genfromtxt('exp9_data.csv',delimiter=',')\n",
    "\n",
    "times = data[:,0]\n",
    "background = (600/1800)*times\n",
    "counts = data[:,1]-background\n",
    "\n",
    "\n",
    "def fitfunc(x,a1,b1,a2,b2):\n",
    "    return a1*(1-np.exp(-b1*x))+a2*(1-np.exp(-b2*x))\n",
    "\n",
    "params, cov = curve_fit(fitfunc,times,counts)\n",
    "\n",
    "plt.style.use(plt.style.available[25])\n",
    "plt.plot(times,counts,label=r'data')\n",
    "plt.plot(times,fitfunc(time,*params),label=r\"fitted function\")\n",
    "plt.title(r'Neutron Activated Ag Decay over Time')\n",
    "plt.xlabel(r'Time(s)')\n",
    "plt.ylabel(r'Event Counts')\n",
    "#plt.text(1200,500,r'half life: %.2f minutes' % hlf_life,\n",
    "#         bbox={'facecolor':'white','ec':'none'})\n",
    "plt.ylim(bottom=0)\n",
    "plt.xlim(right=1.1*times.max())\n",
    "plt.minorticks_on()\n",
    "plt.grid(True,which='both')\n",
    "lg = plt.legend(frameon=True)\n",
    "lg.get_frame().set_linewidth(0.0)\n",
    "plt.savefig('exp9_plot.jpg',dpi=500)\n",
    "plt.show()"
   ]
  }
 ],
 "metadata": {
  "kernelspec": {
   "display_name": "Python 3",
   "language": "python",
   "name": "python3"
  },
  "language_info": {
   "codemirror_mode": {
    "name": "ipython",
    "version": 3
   },
   "file_extension": ".py",
   "mimetype": "text/x-python",
   "name": "python",
   "nbconvert_exporter": "python",
   "pygments_lexer": "ipython3",
   "version": "3.10.11"
  }
 },
 "nbformat": 4,
 "nbformat_minor": 5
}
